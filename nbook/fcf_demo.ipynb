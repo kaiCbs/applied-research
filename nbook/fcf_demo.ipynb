{
 "cells": [
  {
   "cell_type": "code",
   "execution_count": 802,
   "metadata": {},
   "outputs": [],
   "source": [
    "import pandas as pd\n",
    "import numpy as np\n",
    "import datetime"
   ]
  },
  {
   "cell_type": "code",
   "execution_count": 590,
   "metadata": {},
   "outputs": [],
   "source": [
    "# stockinfo = pd.read_csv(\"price.csv\")\n",
    "# stockinfo.drop_duplicates(subset=[\"date\",\"TICKER\"], inplace=True)"
   ]
  },
  {
   "cell_type": "code",
   "execution_count": 591,
   "metadata": {},
   "outputs": [],
   "source": [
    "funda = pd.read_csv(\"funda_annual.csv\")\n",
    "funda.drop_duplicates(subset=[\"tic\",\"fyear\"], inplace=True)"
   ]
  },
  {
   "cell_type": "code",
   "execution_count": 597,
   "metadata": {},
   "outputs": [],
   "source": [
    "shares = pd.read_csv(\"shrout.csv\")\n",
    "shares.drop_duplicates(subset=[\"date\",\"TICKER\"], inplace=True)"
   ]
  },
  {
   "cell_type": "code",
   "execution_count": 598,
   "metadata": {},
   "outputs": [],
   "source": [
    "price = pd.read_csv(\"prc.csv\")\n",
    "price.drop_duplicates(subset=[\"date\",\"TICKER\"], inplace=True)\n",
    "price[\"PRC\"] = price_m.PRC.abs()"
   ]
  },
  {
   "cell_type": "code",
   "execution_count": 599,
   "metadata": {},
   "outputs": [],
   "source": [
    "pool1, pool2, pool3 = price.TICKER.unique(), funda.tic.unique(), shares.TICKER.unique()"
   ]
  },
  {
   "cell_type": "code",
   "execution_count": 600,
   "metadata": {},
   "outputs": [],
   "source": [
    "pool = [i for i in set(pool3) & set(pool2) & set(pool1) if isinstance(i, str)]"
   ]
  },
  {
   "cell_type": "code",
   "execution_count": null,
   "metadata": {},
   "outputs": [],
   "source": []
  },
  {
   "cell_type": "code",
   "execution_count": 601,
   "metadata": {},
   "outputs": [],
   "source": [
    "#IB = funda.pivot(index='fyear', columns='tic', values='ibc')\n",
    "#DA = funda.pivot(index='fyear', columns='tic', values='dp')\n",
    "CAPX = funda.pivot(index='fyear', columns='tic', values='capx')\n",
    "CAPX = CAPX[CAPX.index > 2005]\n",
    "#DV = funda.pivot(index='fyear', columns='tic', values='dv')\n",
    "OCF = funda.pivot(index='fyear', columns='tic', values='oancf')\n",
    "OCF = OCF[OCF.index > 2005]\n",
    "# valid_counts = IB.notnull().sum().sort_values(ascending=False)\n",
    "# pool = vc[vc > 40].index\n",
    "\n",
    "valid = OCF.notnull().sum().sort_values() == 14\n",
    "OCF = OCF[valid[valid].index].dropna(how=\"all\")\n",
    "\n",
    "valid = CAPX.notnull().sum().sort_values() == 14\n",
    "CAPX = CAPX[valid[valid].index].dropna(how=\"all\")\n",
    "\n",
    "pool = list(set(CAPX.columns) & set(OCF.columns) & set(pool))\n",
    "\n",
    "CAPX, OCF = CAPX[pool], OCF[pool]\n",
    "FCF = OCF - CAPX"
   ]
  },
  {
   "cell_type": "code",
   "execution_count": 602,
   "metadata": {},
   "outputs": [],
   "source": [
    "price = price.pivot(index='date', columns='TICKER', values='PRC')\n",
    "price = price[pool]"
   ]
  },
  {
   "cell_type": "code",
   "execution_count": 603,
   "metadata": {},
   "outputs": [],
   "source": [
    "shares = shares.pivot(index='date', columns='TICKER', values='SHROUT')\n",
    "shares = shares[pool]"
   ]
  },
  {
   "cell_type": "code",
   "execution_count": null,
   "metadata": {},
   "outputs": [],
   "source": []
  },
  {
   "cell_type": "code",
   "execution_count": 604,
   "metadata": {},
   "outputs": [],
   "source": [
    "shares[\"year\"] = shares.index//10000\n",
    "shares[\"month\"] = shares.index//100\n",
    "shares_year = shares.groupby(\"year\").mean().fillna(method=\"bfill\").fillna(method=\"ffill\")"
   ]
  },
  {
   "cell_type": "code",
   "execution_count": 605,
   "metadata": {},
   "outputs": [],
   "source": [
    "price[\"year\"] = price.index//10000\n",
    "price[\"month\"] = price.index//100\n",
    "price_year = price.groupby(\"year\").median().fillna(method=\"bfill\").fillna(method=\"ffill\")"
   ]
  },
  {
   "cell_type": "code",
   "execution_count": 606,
   "metadata": {},
   "outputs": [],
   "source": [
    "fcf_per_share = 1000 * FCF / shares_year"
   ]
  },
  {
   "cell_type": "code",
   "execution_count": 607,
   "metadata": {},
   "outputs": [],
   "source": [
    "pcf = fcf_per_share / price_year"
   ]
  },
  {
   "cell_type": "code",
   "execution_count": 608,
   "metadata": {},
   "outputs": [
    {
     "data": {
      "text/plain": [
       "fyear\n",
       "2006.0    1.275732\n",
       "2007.0    1.637524\n",
       "2008.0    2.017528\n",
       "2009.0    1.790599\n",
       "2010.0    2.552795\n",
       "2011.0    2.931499\n",
       "2012.0    3.491981\n",
       "2013.0    2.945187\n",
       "2014.0    3.239986\n",
       "2015.0    2.873754\n",
       "2016.0    3.193846\n",
       "2017.0    4.067090\n",
       "2018.0    4.198347\n",
       "2019.0    5.002744\n",
       "Name: MSFT, dtype: float64"
      ]
     },
     "execution_count": 608,
     "metadata": {},
     "output_type": "execute_result"
    }
   ],
   "source": [
    "fcf_per_share[\"MSFT\"]"
   ]
  },
  {
   "cell_type": "code",
   "execution_count": 609,
   "metadata": {},
   "outputs": [],
   "source": [
    "hist_mean = pcf.mean().sort_values()"
   ]
  },
  {
   "cell_type": "code",
   "execution_count": null,
   "metadata": {},
   "outputs": [],
   "source": []
  },
  {
   "cell_type": "code",
   "execution_count": 610,
   "metadata": {},
   "outputs": [],
   "source": [
    "filter_robust = ((hist_mean > hist_mean.quantile(0.02)) & (hist_mean < hist_mean.quantile(0.98)))"
   ]
  },
  {
   "cell_type": "code",
   "execution_count": 611,
   "metadata": {},
   "outputs": [],
   "source": [
    "pool = filter_robust[filter_robust].index"
   ]
  },
  {
   "cell_type": "code",
   "execution_count": null,
   "metadata": {},
   "outputs": [],
   "source": []
  },
  {
   "cell_type": "code",
   "execution_count": 612,
   "metadata": {},
   "outputs": [],
   "source": [
    "factor = pcf[pool]"
   ]
  },
  {
   "cell_type": "code",
   "execution_count": 613,
   "metadata": {},
   "outputs": [
    {
     "data": {
      "text/html": [
       "<div>\n",
       "<style scoped>\n",
       "    .dataframe tbody tr th:only-of-type {\n",
       "        vertical-align: middle;\n",
       "    }\n",
       "\n",
       "    .dataframe tbody tr th {\n",
       "        vertical-align: top;\n",
       "    }\n",
       "\n",
       "    .dataframe thead th {\n",
       "        text-align: right;\n",
       "    }\n",
       "</style>\n",
       "<table border=\"1\" class=\"dataframe\">\n",
       "  <thead>\n",
       "    <tr style=\"text-align: right;\">\n",
       "      <th></th>\n",
       "      <th>FLY</th>\n",
       "      <th>NCTY</th>\n",
       "      <th>DCTH</th>\n",
       "      <th>CVTI</th>\n",
       "      <th>FVE</th>\n",
       "      <th>ACY</th>\n",
       "      <th>AER</th>\n",
       "      <th>SBOW</th>\n",
       "      <th>RHE</th>\n",
       "      <th>GNK</th>\n",
       "      <th>...</th>\n",
       "      <th>WACLY</th>\n",
       "      <th>RTW</th>\n",
       "      <th>ASX</th>\n",
       "      <th>VIAC</th>\n",
       "      <th>LB</th>\n",
       "      <th>APEX</th>\n",
       "      <th>TGS</th>\n",
       "      <th>MTL</th>\n",
       "      <th>SNE</th>\n",
       "      <th>NGG</th>\n",
       "    </tr>\n",
       "    <tr>\n",
       "      <th>fyear</th>\n",
       "      <th></th>\n",
       "      <th></th>\n",
       "      <th></th>\n",
       "      <th></th>\n",
       "      <th></th>\n",
       "      <th></th>\n",
       "      <th></th>\n",
       "      <th></th>\n",
       "      <th></th>\n",
       "      <th></th>\n",
       "      <th></th>\n",
       "      <th></th>\n",
       "      <th></th>\n",
       "      <th></th>\n",
       "      <th></th>\n",
       "      <th></th>\n",
       "      <th></th>\n",
       "      <th></th>\n",
       "      <th></th>\n",
       "      <th></th>\n",
       "      <th></th>\n",
       "    </tr>\n",
       "  </thead>\n",
       "  <tbody>\n",
       "    <tr>\n",
       "      <th>2006.0</th>\n",
       "      <td>-1.177590</td>\n",
       "      <td>0.233242</td>\n",
       "      <td>-0.102807</td>\n",
       "      <td>-0.667105</td>\n",
       "      <td>-0.772236</td>\n",
       "      <td>0.245052</td>\n",
       "      <td>-0.320301</td>\n",
       "      <td>-0.464479</td>\n",
       "      <td>-0.022462</td>\n",
       "      <td>0.004906</td>\n",
       "      <td>...</td>\n",
       "      <td>0.253400</td>\n",
       "      <td>0.148472</td>\n",
       "      <td>5.787337</td>\n",
       "      <td>7.980778</td>\n",
       "      <td>0.256249</td>\n",
       "      <td>6.850026</td>\n",
       "      <td>4.237327</td>\n",
       "      <td>0.270209</td>\n",
       "      <td>0.043993</td>\n",
       "      <td>1.390036</td>\n",
       "    </tr>\n",
       "    <tr>\n",
       "      <th>2007.0</th>\n",
       "      <td>-0.378138</td>\n",
       "      <td>0.097011</td>\n",
       "      <td>-0.058483</td>\n",
       "      <td>-0.272498</td>\n",
       "      <td>-0.126393</td>\n",
       "      <td>-0.717489</td>\n",
       "      <td>-0.294692</td>\n",
       "      <td>-0.640089</td>\n",
       "      <td>-0.222680</td>\n",
       "      <td>-0.437289</td>\n",
       "      <td>...</td>\n",
       "      <td>0.489856</td>\n",
       "      <td>1.164179</td>\n",
       "      <td>2.362903</td>\n",
       "      <td>8.029001</td>\n",
       "      <td>0.080091</td>\n",
       "      <td>0.616643</td>\n",
       "      <td>1.228172</td>\n",
       "      <td>0.054252</td>\n",
       "      <td>0.322614</td>\n",
       "      <td>0.465466</td>\n",
       "    </tr>\n",
       "    <tr>\n",
       "      <th>2008.0</th>\n",
       "      <td>-0.991393</td>\n",
       "      <td>0.309803</td>\n",
       "      <td>-0.156944</td>\n",
       "      <td>-0.903500</td>\n",
       "      <td>-0.673840</td>\n",
       "      <td>0.074144</td>\n",
       "      <td>-1.132132</td>\n",
       "      <td>-0.303875</td>\n",
       "      <td>-0.007358</td>\n",
       "      <td>-0.139764</td>\n",
       "      <td>...</td>\n",
       "      <td>0.194414</td>\n",
       "      <td>-2.340011</td>\n",
       "      <td>2.064634</td>\n",
       "      <td>0.070779</td>\n",
       "      <td>2.277652</td>\n",
       "      <td>2.017621</td>\n",
       "      <td>1.516197</td>\n",
       "      <td>0.343586</td>\n",
       "      <td>-0.146998</td>\n",
       "      <td>0.355899</td>\n",
       "    </tr>\n",
       "    <tr>\n",
       "      <th>2009.0</th>\n",
       "      <td>0.560020</td>\n",
       "      <td>-0.142464</td>\n",
       "      <td>-0.116993</td>\n",
       "      <td>-1.647543</td>\n",
       "      <td>-0.435220</td>\n",
       "      <td>0.616457</td>\n",
       "      <td>-2.086891</td>\n",
       "      <td>0.036473</td>\n",
       "      <td>0.255405</td>\n",
       "      <td>-0.107076</td>\n",
       "      <td>...</td>\n",
       "      <td>0.274264</td>\n",
       "      <td>20.089654</td>\n",
       "      <td>0.900025</td>\n",
       "      <td>0.028686</td>\n",
       "      <td>5.856620</td>\n",
       "      <td>1.739026</td>\n",
       "      <td>2.271124</td>\n",
       "      <td>-0.043484</td>\n",
       "      <td>1.706758</td>\n",
       "      <td>2.420880</td>\n",
       "    </tr>\n",
       "    <tr>\n",
       "      <th>2010.0</th>\n",
       "      <td>0.197717</td>\n",
       "      <td>-0.403241</td>\n",
       "      <td>-0.082786</td>\n",
       "      <td>-0.780134</td>\n",
       "      <td>0.411835</td>\n",
       "      <td>-0.157224</td>\n",
       "      <td>-1.113587</td>\n",
       "      <td>-0.331771</td>\n",
       "      <td>-0.456398</td>\n",
       "      <td>-1.267138</td>\n",
       "      <td>...</td>\n",
       "      <td>0.412588</td>\n",
       "      <td>-2.964571</td>\n",
       "      <td>0.532020</td>\n",
       "      <td>0.061401</td>\n",
       "      <td>5.236046</td>\n",
       "      <td>1.581244</td>\n",
       "      <td>0.716748</td>\n",
       "      <td>-0.473214</td>\n",
       "      <td>1.269711</td>\n",
       "      <td>3.419711</td>\n",
       "    </tr>\n",
       "    <tr>\n",
       "      <th>2011.0</th>\n",
       "      <td>0.199950</td>\n",
       "      <td>-0.382954</td>\n",
       "      <td>-0.184516</td>\n",
       "      <td>-0.984866</td>\n",
       "      <td>-0.072726</td>\n",
       "      <td>-0.237984</td>\n",
       "      <td>-0.102672</td>\n",
       "      <td>-0.463449</td>\n",
       "      <td>-0.478279</td>\n",
       "      <td>0.090347</td>\n",
       "      <td>...</td>\n",
       "      <td>0.434909</td>\n",
       "      <td>-0.103370</td>\n",
       "      <td>0.316140</td>\n",
       "      <td>0.062806</td>\n",
       "      <td>2.994833</td>\n",
       "      <td>0.849123</td>\n",
       "      <td>0.947012</td>\n",
       "      <td>-0.364078</td>\n",
       "      <td>0.761735</td>\n",
       "      <td>1.752726</td>\n",
       "    </tr>\n",
       "    <tr>\n",
       "      <th>2012.0</th>\n",
       "      <td>0.335951</td>\n",
       "      <td>-0.881152</td>\n",
       "      <td>-0.495367</td>\n",
       "      <td>0.256724</td>\n",
       "      <td>-0.014701</td>\n",
       "      <td>-0.323749</td>\n",
       "      <td>-0.236113</td>\n",
       "      <td>-1.552639</td>\n",
       "      <td>-0.822949</td>\n",
       "      <td>-0.154949</td>\n",
       "      <td>...</td>\n",
       "      <td>1.074230</td>\n",
       "      <td>0.046095</td>\n",
       "      <td>-1.432417</td>\n",
       "      <td>0.066065</td>\n",
       "      <td>0.042498</td>\n",
       "      <td>1.181074</td>\n",
       "      <td>1.986168</td>\n",
       "      <td>0.421625</td>\n",
       "      <td>1.871916</td>\n",
       "      <td>0.762522</td>\n",
       "    </tr>\n",
       "    <tr>\n",
       "      <th>2013.0</th>\n",
       "      <td>-1.045224</td>\n",
       "      <td>-1.144066</td>\n",
       "      <td>-0.858674</td>\n",
       "      <td>-1.217335</td>\n",
       "      <td>-0.097032</td>\n",
       "      <td>-0.602253</td>\n",
       "      <td>-0.638777</td>\n",
       "      <td>-0.802059</td>\n",
       "      <td>0.110566</td>\n",
       "      <td>-1.293007</td>\n",
       "      <td>...</td>\n",
       "      <td>1.334944</td>\n",
       "      <td>0.045177</td>\n",
       "      <td>0.921133</td>\n",
       "      <td>0.067842</td>\n",
       "      <td>0.031024</td>\n",
       "      <td>1.015162</td>\n",
       "      <td>2.817690</td>\n",
       "      <td>-0.860490</td>\n",
       "      <td>3.430457</td>\n",
       "      <td>1.515324</td>\n",
       "    </tr>\n",
       "    <tr>\n",
       "      <th>2014.0</th>\n",
       "      <td>-1.184092</td>\n",
       "      <td>-0.957657</td>\n",
       "      <td>-0.197178</td>\n",
       "      <td>-0.555363</td>\n",
       "      <td>-0.095997</td>\n",
       "      <td>-2.829851</td>\n",
       "      <td>-0.032302</td>\n",
       "      <td>-0.280169</td>\n",
       "      <td>-1.694114</td>\n",
       "      <td>-1.472828</td>\n",
       "      <td>...</td>\n",
       "      <td>1.927828</td>\n",
       "      <td>-0.073769</td>\n",
       "      <td>0.331671</td>\n",
       "      <td>0.045242</td>\n",
       "      <td>0.062983</td>\n",
       "      <td>1.248531</td>\n",
       "      <td>1.495294</td>\n",
       "      <td>1.740773</td>\n",
       "      <td>2.587416</td>\n",
       "      <td>2.001221</td>\n",
       "    </tr>\n",
       "    <tr>\n",
       "      <th>2015.0</th>\n",
       "      <td>-0.622178</td>\n",
       "      <td>-1.063395</td>\n",
       "      <td>-1.432682</td>\n",
       "      <td>-0.250622</td>\n",
       "      <td>-0.107866</td>\n",
       "      <td>0.600138</td>\n",
       "      <td>-0.022694</td>\n",
       "      <td>-0.341305</td>\n",
       "      <td>-3.796217</td>\n",
       "      <td>-0.536750</td>\n",
       "      <td>...</td>\n",
       "      <td>0.931057</td>\n",
       "      <td>-0.029940</td>\n",
       "      <td>1.079488</td>\n",
       "      <td>0.050829</td>\n",
       "      <td>0.043640</td>\n",
       "      <td>1.451157</td>\n",
       "      <td>0.080248</td>\n",
       "      <td>0.614268</td>\n",
       "      <td>0.951051</td>\n",
       "      <td>2.047798</td>\n",
       "    </tr>\n",
       "    <tr>\n",
       "      <th>2016.0</th>\n",
       "      <td>-0.943422</td>\n",
       "      <td>-0.728060</td>\n",
       "      <td>-1.858955</td>\n",
       "      <td>-0.033191</td>\n",
       "      <td>-0.677067</td>\n",
       "      <td>-2.928079</td>\n",
       "      <td>-0.061258</td>\n",
       "      <td>-0.225075</td>\n",
       "      <td>-0.950555</td>\n",
       "      <td>-0.449456</td>\n",
       "      <td>...</td>\n",
       "      <td>2.002489</td>\n",
       "      <td>0.151980</td>\n",
       "      <td>1.123421</td>\n",
       "      <td>0.063017</td>\n",
       "      <td>0.042902</td>\n",
       "      <td>1.477073</td>\n",
       "      <td>0.815885</td>\n",
       "      <td>5.047199</td>\n",
       "      <td>1.348125</td>\n",
       "      <td>1.712120</td>\n",
       "    </tr>\n",
       "    <tr>\n",
       "      <th>2017.0</th>\n",
       "      <td>-0.607125</td>\n",
       "      <td>-0.786045</td>\n",
       "      <td>-0.556170</td>\n",
       "      <td>-0.084401</td>\n",
       "      <td>-0.668571</td>\n",
       "      <td>-1.360536</td>\n",
       "      <td>-0.259332</td>\n",
       "      <td>-0.331340</td>\n",
       "      <td>0.566189</td>\n",
       "      <td>0.065269</td>\n",
       "      <td>...</td>\n",
       "      <td>2.336425</td>\n",
       "      <td>0.043161</td>\n",
       "      <td>1.093474</td>\n",
       "      <td>0.029710</td>\n",
       "      <td>0.047054</td>\n",
       "      <td>-0.687658</td>\n",
       "      <td>0.395082</td>\n",
       "      <td>2.281577</td>\n",
       "      <td>2.321268</td>\n",
       "      <td>0.909755</td>\n",
       "    </tr>\n",
       "    <tr>\n",
       "      <th>2018.0</th>\n",
       "      <td>-2.108585</td>\n",
       "      <td>-0.978844</td>\n",
       "      <td>-0.517257</td>\n",
       "      <td>0.106370</td>\n",
       "      <td>-1.632222</td>\n",
       "      <td>-0.216347</td>\n",
       "      <td>-0.386864</td>\n",
       "      <td>-0.435503</td>\n",
       "      <td>0.234295</td>\n",
       "      <td>-0.330957</td>\n",
       "      <td>...</td>\n",
       "      <td>2.044940</td>\n",
       "      <td>0.092555</td>\n",
       "      <td>0.553862</td>\n",
       "      <td>0.053368</td>\n",
       "      <td>0.080368</td>\n",
       "      <td>-1.294900</td>\n",
       "      <td>0.429153</td>\n",
       "      <td>3.958990</td>\n",
       "      <td>1.477775</td>\n",
       "      <td>0.904347</td>\n",
       "    </tr>\n",
       "    <tr>\n",
       "      <th>2019.0</th>\n",
       "      <td>-0.116196</td>\n",
       "      <td>-0.945605</td>\n",
       "      <td>-0.828352</td>\n",
       "      <td>-0.290302</td>\n",
       "      <td>-2.265551</td>\n",
       "      <td>0.692042</td>\n",
       "      <td>-0.220621</td>\n",
       "      <td>-0.558679</td>\n",
       "      <td>0.883431</td>\n",
       "      <td>0.023296</td>\n",
       "      <td>...</td>\n",
       "      <td>1.889079</td>\n",
       "      <td>-0.282041</td>\n",
       "      <td>0.806900</td>\n",
       "      <td>0.037116</td>\n",
       "      <td>0.117259</td>\n",
       "      <td>-0.337795</td>\n",
       "      <td>-0.190459</td>\n",
       "      <td>6.128489</td>\n",
       "      <td>1.361010</td>\n",
       "      <td>0.043643</td>\n",
       "    </tr>\n",
       "  </tbody>\n",
       "</table>\n",
       "<p>14 rows × 1962 columns</p>\n",
       "</div>"
      ],
      "text/plain": [
       "             FLY      NCTY      DCTH      CVTI       FVE       ACY       AER  \\\n",
       "fyear                                                                          \n",
       "2006.0 -1.177590  0.233242 -0.102807 -0.667105 -0.772236  0.245052 -0.320301   \n",
       "2007.0 -0.378138  0.097011 -0.058483 -0.272498 -0.126393 -0.717489 -0.294692   \n",
       "2008.0 -0.991393  0.309803 -0.156944 -0.903500 -0.673840  0.074144 -1.132132   \n",
       "2009.0  0.560020 -0.142464 -0.116993 -1.647543 -0.435220  0.616457 -2.086891   \n",
       "2010.0  0.197717 -0.403241 -0.082786 -0.780134  0.411835 -0.157224 -1.113587   \n",
       "2011.0  0.199950 -0.382954 -0.184516 -0.984866 -0.072726 -0.237984 -0.102672   \n",
       "2012.0  0.335951 -0.881152 -0.495367  0.256724 -0.014701 -0.323749 -0.236113   \n",
       "2013.0 -1.045224 -1.144066 -0.858674 -1.217335 -0.097032 -0.602253 -0.638777   \n",
       "2014.0 -1.184092 -0.957657 -0.197178 -0.555363 -0.095997 -2.829851 -0.032302   \n",
       "2015.0 -0.622178 -1.063395 -1.432682 -0.250622 -0.107866  0.600138 -0.022694   \n",
       "2016.0 -0.943422 -0.728060 -1.858955 -0.033191 -0.677067 -2.928079 -0.061258   \n",
       "2017.0 -0.607125 -0.786045 -0.556170 -0.084401 -0.668571 -1.360536 -0.259332   \n",
       "2018.0 -2.108585 -0.978844 -0.517257  0.106370 -1.632222 -0.216347 -0.386864   \n",
       "2019.0 -0.116196 -0.945605 -0.828352 -0.290302 -2.265551  0.692042 -0.220621   \n",
       "\n",
       "            SBOW       RHE       GNK  ...     WACLY        RTW       ASX  \\\n",
       "fyear                                 ...                                  \n",
       "2006.0 -0.464479 -0.022462  0.004906  ...  0.253400   0.148472  5.787337   \n",
       "2007.0 -0.640089 -0.222680 -0.437289  ...  0.489856   1.164179  2.362903   \n",
       "2008.0 -0.303875 -0.007358 -0.139764  ...  0.194414  -2.340011  2.064634   \n",
       "2009.0  0.036473  0.255405 -0.107076  ...  0.274264  20.089654  0.900025   \n",
       "2010.0 -0.331771 -0.456398 -1.267138  ...  0.412588  -2.964571  0.532020   \n",
       "2011.0 -0.463449 -0.478279  0.090347  ...  0.434909  -0.103370  0.316140   \n",
       "2012.0 -1.552639 -0.822949 -0.154949  ...  1.074230   0.046095 -1.432417   \n",
       "2013.0 -0.802059  0.110566 -1.293007  ...  1.334944   0.045177  0.921133   \n",
       "2014.0 -0.280169 -1.694114 -1.472828  ...  1.927828  -0.073769  0.331671   \n",
       "2015.0 -0.341305 -3.796217 -0.536750  ...  0.931057  -0.029940  1.079488   \n",
       "2016.0 -0.225075 -0.950555 -0.449456  ...  2.002489   0.151980  1.123421   \n",
       "2017.0 -0.331340  0.566189  0.065269  ...  2.336425   0.043161  1.093474   \n",
       "2018.0 -0.435503  0.234295 -0.330957  ...  2.044940   0.092555  0.553862   \n",
       "2019.0 -0.558679  0.883431  0.023296  ...  1.889079  -0.282041  0.806900   \n",
       "\n",
       "            VIAC        LB      APEX       TGS       MTL       SNE       NGG  \n",
       "fyear                                                                         \n",
       "2006.0  7.980778  0.256249  6.850026  4.237327  0.270209  0.043993  1.390036  \n",
       "2007.0  8.029001  0.080091  0.616643  1.228172  0.054252  0.322614  0.465466  \n",
       "2008.0  0.070779  2.277652  2.017621  1.516197  0.343586 -0.146998  0.355899  \n",
       "2009.0  0.028686  5.856620  1.739026  2.271124 -0.043484  1.706758  2.420880  \n",
       "2010.0  0.061401  5.236046  1.581244  0.716748 -0.473214  1.269711  3.419711  \n",
       "2011.0  0.062806  2.994833  0.849123  0.947012 -0.364078  0.761735  1.752726  \n",
       "2012.0  0.066065  0.042498  1.181074  1.986168  0.421625  1.871916  0.762522  \n",
       "2013.0  0.067842  0.031024  1.015162  2.817690 -0.860490  3.430457  1.515324  \n",
       "2014.0  0.045242  0.062983  1.248531  1.495294  1.740773  2.587416  2.001221  \n",
       "2015.0  0.050829  0.043640  1.451157  0.080248  0.614268  0.951051  2.047798  \n",
       "2016.0  0.063017  0.042902  1.477073  0.815885  5.047199  1.348125  1.712120  \n",
       "2017.0  0.029710  0.047054 -0.687658  0.395082  2.281577  2.321268  0.909755  \n",
       "2018.0  0.053368  0.080368 -1.294900  0.429153  3.958990  1.477775  0.904347  \n",
       "2019.0  0.037116  0.117259 -0.337795 -0.190459  6.128489  1.361010  0.043643  \n",
       "\n",
       "[14 rows x 1962 columns]"
      ]
     },
     "execution_count": 613,
     "metadata": {},
     "output_type": "execute_result"
    }
   ],
   "source": [
    "factor = factor[pool].iloc[:-1]"
   ]
  },
  {
   "cell_type": "code",
   "execution_count": 614,
   "metadata": {},
   "outputs": [],
   "source": [
    "price_daily = stockinfo.pivot(index='date', columns='TICKER', values='PRC')"
   ]
  },
  {
   "cell_type": "code",
   "execution_count": 615,
   "metadata": {},
   "outputs": [
    {
     "data": {
      "text/plain": [
       "1960"
      ]
     },
     "execution_count": 615,
     "metadata": {},
     "output_type": "execute_result"
    }
   ],
   "source": [
    "pool = list(set(price_daily.columns) & set(pool)) ; len(pool)"
   ]
  },
  {
   "cell_type": "code",
   "execution_count": 621,
   "metadata": {},
   "outputs": [],
   "source": [
    "price_daily = price_daily.abs()[pool]"
   ]
  },
  {
   "cell_type": "code",
   "execution_count": 831,
   "metadata": {},
   "outputs": [],
   "source": [
    "r = ((price_daily.shift(-1) / price_daily) - 1).fillna(0)"
   ]
  },
  {
   "cell_type": "code",
   "execution_count": 850,
   "metadata": {},
   "outputs": [],
   "source": [
    "num = 6\n",
    "group = (((factor.rank(axis=1))/(factor.shape[1]+1))*num)//1\n",
    "#group[\"year\"] = group.index"
   ]
  },
  {
   "cell_type": "code",
   "execution_count": 851,
   "metadata": {},
   "outputs": [],
   "source": [
    "r[r>10] = 0"
   ]
  },
  {
   "cell_type": "code",
   "execution_count": 860,
   "metadata": {},
   "outputs": [
    {
     "data": {
      "text/plain": [
       "ACY    -0.602902\n",
       "FLY    -0.597239\n",
       "RHE    -0.560351\n",
       "CVTI   -0.541036\n",
       "NCTY   -0.525217\n",
       "AER    -0.514432\n",
       "DCTH   -0.509139\n",
       "SBOW   -0.471945\n",
       "GNK    -0.463746\n",
       "ATV    -0.448109\n",
       "dtype: float64"
      ]
     },
     "execution_count": 860,
     "metadata": {},
     "output_type": "execute_result"
    }
   ],
   "source": [
    "factor.mean().sort_values()[:10]"
   ]
  },
  {
   "cell_type": "code",
   "execution_count": 852,
   "metadata": {},
   "outputs": [],
   "source": [
    "def sim(g_id):\n",
    "    mask = (group == g_id)\n",
    "    mask[\"year\"] = mask.index + 1\n",
    "    full_df = pd.DataFrame(r.index.values//10000, columns=[\"year\"])\n",
    "    full_mask = pd.merge(full_df, mask, how=\"left\", on=\"year\").drop(\"year\",axis=1)\n",
    "    full_mask.index = r.index\n",
    "    group_r = (r * full_mask).sum(axis=1) / (full_mask).sum(axis=1)\n",
    "    return group_r.cumsum().rename(g_id)"
   ]
  },
  {
   "cell_type": "code",
   "execution_count": 853,
   "metadata": {},
   "outputs": [],
   "source": [
    "result = pd.concat([sim(i) for i in range(num)], axis=1)"
   ]
  },
  {
   "cell_type": "code",
   "execution_count": 854,
   "metadata": {},
   "outputs": [],
   "source": [
    "result.index = [datetime.datetime.strptime(str(i),\"%Y%m%d\") for i in result.index]"
   ]
  },
  {
   "cell_type": "code",
   "execution_count": 856,
   "metadata": {},
   "outputs": [
    {
     "data": {
      "text/plain": [
       "<matplotlib.axes._subplots.AxesSubplot at 0x7f978e7e8890>"
      ]
     },
     "execution_count": 856,
     "metadata": {},
     "output_type": "execute_result"
    },
    {
     "data": {
      "image/png": "[encoded data removed]",
      "text/plain": [
       "<Figure size 936x648 with 1 Axes>"
      ]
     },
     "metadata": {
      "needs_background": "light"
     },
     "output_type": "display_data"
    }
   ],
   "source": [
    "result.plot(figsize=(13,9))"
   ]
  },
  {
   "cell_type": "code",
   "execution_count": null,
   "metadata": {},
   "outputs": [],
   "source": []
  }
 ],
 "metadata": {
  "kernelspec": {
   "display_name": "Python 3",
   "language": "python",
   "name": "python3"
  },
  "language_info": {
   "codemirror_mode": {
    "name": "ipython",
    "version": 3
   },
   "file_extension": ".py",
   "mimetype": "text/x-python",
   "name": "python",
   "nbconvert_exporter": "python",
   "pygments_lexer": "ipython3",
   "version": "3.7.6"
  }
 },
 "nbformat": 4,
 "nbformat_minor": 4
}
